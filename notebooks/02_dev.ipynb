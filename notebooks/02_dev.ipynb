{
 "cells": [
  {
   "cell_type": "code",
   "execution_count": 2,
   "metadata": {},
   "outputs": [],
   "source": [
    "import pandas as pd\n",
    "import matplotlib.pyplot as plt\n",
    "import seaborn as sns"
   ]
  },
  {
   "cell_type": "code",
   "execution_count": 3,
   "metadata": {},
   "outputs": [],
   "source": [
    "ruta = r'D:\\0_Respaldo\\0_Proyectos_2024\\ML_proyects\\titanic\\titanic\\titanic\\data\\clean\\extra_clean.parquet'"
   ]
  },
  {
   "cell_type": "code",
   "execution_count": 4,
   "metadata": {},
   "outputs": [],
   "source": [
    "data = pd.read_parquet(ruta)"
   ]
  },
  {
   "cell_type": "code",
   "execution_count": 5,
   "metadata": {},
   "outputs": [
    {
     "data": {
      "text/html": [
       "<div>\n",
       "<style scoped>\n",
       "    .dataframe tbody tr th:only-of-type {\n",
       "        vertical-align: middle;\n",
       "    }\n",
       "\n",
       "    .dataframe tbody tr th {\n",
       "        vertical-align: top;\n",
       "    }\n",
       "\n",
       "    .dataframe thead th {\n",
       "        text-align: right;\n",
       "    }\n",
       "</style>\n",
       "<table border=\"1\" class=\"dataframe\">\n",
       "  <thead>\n",
       "    <tr style=\"text-align: right;\">\n",
       "      <th></th>\n",
       "      <th>Survived</th>\n",
       "      <th>Pclass</th>\n",
       "      <th>Sex</th>\n",
       "      <th>Age</th>\n",
       "      <th>SibSp</th>\n",
       "      <th>Parch</th>\n",
       "      <th>Embarked</th>\n",
       "      <th>cabim_multiple</th>\n",
       "      <th>cabin_adv</th>\n",
       "      <th>numeric_tiket</th>\n",
       "      <th>letters_tiket</th>\n",
       "      <th>name_title</th>\n",
       "      <th>norm_fare</th>\n",
       "    </tr>\n",
       "    <tr>\n",
       "      <th>index</th>\n",
       "      <th></th>\n",
       "      <th></th>\n",
       "      <th></th>\n",
       "      <th></th>\n",
       "      <th></th>\n",
       "      <th></th>\n",
       "      <th></th>\n",
       "      <th></th>\n",
       "      <th></th>\n",
       "      <th></th>\n",
       "      <th></th>\n",
       "      <th></th>\n",
       "      <th></th>\n",
       "    </tr>\n",
       "  </thead>\n",
       "  <tbody>\n",
       "    <tr>\n",
       "      <th>0</th>\n",
       "      <td>0</td>\n",
       "      <td>3</td>\n",
       "      <td>male</td>\n",
       "      <td>22.0</td>\n",
       "      <td>1</td>\n",
       "      <td>0</td>\n",
       "      <td>S</td>\n",
       "      <td>0</td>\n",
       "      <td>n</td>\n",
       "      <td>0</td>\n",
       "      <td>a5</td>\n",
       "      <td>Mr</td>\n",
       "      <td>2.110213</td>\n",
       "    </tr>\n",
       "    <tr>\n",
       "      <th>1</th>\n",
       "      <td>1</td>\n",
       "      <td>1</td>\n",
       "      <td>female</td>\n",
       "      <td>38.0</td>\n",
       "      <td>1</td>\n",
       "      <td>0</td>\n",
       "      <td>C</td>\n",
       "      <td>1</td>\n",
       "      <td>C</td>\n",
       "      <td>0</td>\n",
       "      <td>pc</td>\n",
       "      <td>Mrs</td>\n",
       "      <td>4.280593</td>\n",
       "    </tr>\n",
       "    <tr>\n",
       "      <th>2</th>\n",
       "      <td>1</td>\n",
       "      <td>3</td>\n",
       "      <td>female</td>\n",
       "      <td>26.0</td>\n",
       "      <td>0</td>\n",
       "      <td>0</td>\n",
       "      <td>S</td>\n",
       "      <td>0</td>\n",
       "      <td>n</td>\n",
       "      <td>0</td>\n",
       "      <td>stono2</td>\n",
       "      <td>Miss</td>\n",
       "      <td>2.188856</td>\n",
       "    </tr>\n",
       "    <tr>\n",
       "      <th>3</th>\n",
       "      <td>1</td>\n",
       "      <td>1</td>\n",
       "      <td>female</td>\n",
       "      <td>35.0</td>\n",
       "      <td>1</td>\n",
       "      <td>0</td>\n",
       "      <td>S</td>\n",
       "      <td>1</td>\n",
       "      <td>C</td>\n",
       "      <td>1</td>\n",
       "      <td>0</td>\n",
       "      <td>Mrs</td>\n",
       "      <td>3.990834</td>\n",
       "    </tr>\n",
       "    <tr>\n",
       "      <th>4</th>\n",
       "      <td>0</td>\n",
       "      <td>3</td>\n",
       "      <td>male</td>\n",
       "      <td>35.0</td>\n",
       "      <td>0</td>\n",
       "      <td>0</td>\n",
       "      <td>S</td>\n",
       "      <td>0</td>\n",
       "      <td>n</td>\n",
       "      <td>1</td>\n",
       "      <td>0</td>\n",
       "      <td>Mr</td>\n",
       "      <td>2.202765</td>\n",
       "    </tr>\n",
       "  </tbody>\n",
       "</table>\n",
       "</div>"
      ],
      "text/plain": [
       "       Survived  Pclass     Sex   Age  SibSp  Parch Embarked  cabim_multiple  \\\n",
       "index                                                                          \n",
       "0             0       3    male  22.0      1      0        S               0   \n",
       "1             1       1  female  38.0      1      0        C               1   \n",
       "2             1       3  female  26.0      0      0        S               0   \n",
       "3             1       1  female  35.0      1      0        S               1   \n",
       "4             0       3    male  35.0      0      0        S               0   \n",
       "\n",
       "      cabin_adv  numeric_tiket letters_tiket name_title  norm_fare  \n",
       "index                                                               \n",
       "0             n              0            a5         Mr   2.110213  \n",
       "1             C              0            pc        Mrs   4.280593  \n",
       "2             n              0        stono2       Miss   2.188856  \n",
       "3             C              1             0        Mrs   3.990834  \n",
       "4             n              1             0         Mr   2.202765  "
      ]
     },
     "execution_count": 5,
     "metadata": {},
     "output_type": "execute_result"
    }
   ],
   "source": [
    "data.head(5)"
   ]
  },
  {
   "cell_type": "code",
   "execution_count": 6,
   "metadata": {},
   "outputs": [
    {
     "name": "stdout",
     "output_type": "stream",
     "text": [
      "<class 'pandas.core.frame.DataFrame'>\n",
      "Index: 889 entries, 0 to 890\n",
      "Data columns (total 13 columns):\n",
      " #   Column          Non-Null Count  Dtype  \n",
      "---  ------          --------------  -----  \n",
      " 0   Survived        889 non-null    int64  \n",
      " 1   Pclass          889 non-null    int64  \n",
      " 2   Sex             889 non-null    object \n",
      " 3   Age             889 non-null    float64\n",
      " 4   SibSp           889 non-null    int64  \n",
      " 5   Parch           889 non-null    int64  \n",
      " 6   Embarked        889 non-null    object \n",
      " 7   cabim_multiple  889 non-null    int64  \n",
      " 8   cabin_adv       889 non-null    object \n",
      " 9   numeric_tiket   889 non-null    int64  \n",
      " 10  letters_tiket   889 non-null    object \n",
      " 11  name_title      889 non-null    object \n",
      " 12  norm_fare       889 non-null    float64\n",
      "dtypes: float64(2), int64(6), object(5)\n",
      "memory usage: 97.2+ KB\n"
     ]
    }
   ],
   "source": [
    "data.info()"
   ]
  },
  {
   "cell_type": "code",
   "execution_count": 7,
   "metadata": {},
   "outputs": [],
   "source": [
    "df = data.copy()"
   ]
  },
  {
   "cell_type": "code",
   "execution_count": 8,
   "metadata": {},
   "outputs": [
    {
     "data": {
      "text/html": [
       "<div>\n",
       "<style scoped>\n",
       "    .dataframe tbody tr th:only-of-type {\n",
       "        vertical-align: middle;\n",
       "    }\n",
       "\n",
       "    .dataframe tbody tr th {\n",
       "        vertical-align: top;\n",
       "    }\n",
       "\n",
       "    .dataframe thead th {\n",
       "        text-align: right;\n",
       "    }\n",
       "</style>\n",
       "<table border=\"1\" class=\"dataframe\">\n",
       "  <thead>\n",
       "    <tr style=\"text-align: right;\">\n",
       "      <th></th>\n",
       "      <th>Survived</th>\n",
       "      <th>Pclass</th>\n",
       "      <th>Sex</th>\n",
       "      <th>Age</th>\n",
       "      <th>SibSp</th>\n",
       "      <th>Parch</th>\n",
       "      <th>Embarked</th>\n",
       "      <th>cabim_multiple</th>\n",
       "      <th>cabin_adv</th>\n",
       "      <th>numeric_tiket</th>\n",
       "      <th>letters_tiket</th>\n",
       "      <th>name_title</th>\n",
       "      <th>norm_fare</th>\n",
       "    </tr>\n",
       "    <tr>\n",
       "      <th>index</th>\n",
       "      <th></th>\n",
       "      <th></th>\n",
       "      <th></th>\n",
       "      <th></th>\n",
       "      <th></th>\n",
       "      <th></th>\n",
       "      <th></th>\n",
       "      <th></th>\n",
       "      <th></th>\n",
       "      <th></th>\n",
       "      <th></th>\n",
       "      <th></th>\n",
       "      <th></th>\n",
       "    </tr>\n",
       "  </thead>\n",
       "  <tbody>\n",
       "    <tr>\n",
       "      <th>0</th>\n",
       "      <td>0</td>\n",
       "      <td>3</td>\n",
       "      <td>male</td>\n",
       "      <td>22.0</td>\n",
       "      <td>1</td>\n",
       "      <td>0</td>\n",
       "      <td>S</td>\n",
       "      <td>0</td>\n",
       "      <td>n</td>\n",
       "      <td>0</td>\n",
       "      <td>a5</td>\n",
       "      <td>Mr</td>\n",
       "      <td>2.110213</td>\n",
       "    </tr>\n",
       "    <tr>\n",
       "      <th>1</th>\n",
       "      <td>1</td>\n",
       "      <td>1</td>\n",
       "      <td>female</td>\n",
       "      <td>38.0</td>\n",
       "      <td>1</td>\n",
       "      <td>0</td>\n",
       "      <td>C</td>\n",
       "      <td>1</td>\n",
       "      <td>C</td>\n",
       "      <td>0</td>\n",
       "      <td>pc</td>\n",
       "      <td>Mrs</td>\n",
       "      <td>4.280593</td>\n",
       "    </tr>\n",
       "    <tr>\n",
       "      <th>2</th>\n",
       "      <td>1</td>\n",
       "      <td>3</td>\n",
       "      <td>female</td>\n",
       "      <td>26.0</td>\n",
       "      <td>0</td>\n",
       "      <td>0</td>\n",
       "      <td>S</td>\n",
       "      <td>0</td>\n",
       "      <td>n</td>\n",
       "      <td>0</td>\n",
       "      <td>stono2</td>\n",
       "      <td>Miss</td>\n",
       "      <td>2.188856</td>\n",
       "    </tr>\n",
       "    <tr>\n",
       "      <th>3</th>\n",
       "      <td>1</td>\n",
       "      <td>1</td>\n",
       "      <td>female</td>\n",
       "      <td>35.0</td>\n",
       "      <td>1</td>\n",
       "      <td>0</td>\n",
       "      <td>S</td>\n",
       "      <td>1</td>\n",
       "      <td>C</td>\n",
       "      <td>1</td>\n",
       "      <td>0</td>\n",
       "      <td>Mrs</td>\n",
       "      <td>3.990834</td>\n",
       "    </tr>\n",
       "    <tr>\n",
       "      <th>4</th>\n",
       "      <td>0</td>\n",
       "      <td>3</td>\n",
       "      <td>male</td>\n",
       "      <td>35.0</td>\n",
       "      <td>0</td>\n",
       "      <td>0</td>\n",
       "      <td>S</td>\n",
       "      <td>0</td>\n",
       "      <td>n</td>\n",
       "      <td>1</td>\n",
       "      <td>0</td>\n",
       "      <td>Mr</td>\n",
       "      <td>2.202765</td>\n",
       "    </tr>\n",
       "  </tbody>\n",
       "</table>\n",
       "</div>"
      ],
      "text/plain": [
       "       Survived  Pclass     Sex   Age  SibSp  Parch Embarked  cabim_multiple  \\\n",
       "index                                                                          \n",
       "0             0       3    male  22.0      1      0        S               0   \n",
       "1             1       1  female  38.0      1      0        C               1   \n",
       "2             1       3  female  26.0      0      0        S               0   \n",
       "3             1       1  female  35.0      1      0        S               1   \n",
       "4             0       3    male  35.0      0      0        S               0   \n",
       "\n",
       "      cabin_adv  numeric_tiket letters_tiket name_title  norm_fare  \n",
       "index                                                               \n",
       "0             n              0            a5         Mr   2.110213  \n",
       "1             C              0            pc        Mrs   4.280593  \n",
       "2             n              0        stono2       Miss   2.188856  \n",
       "3             C              1             0        Mrs   3.990834  \n",
       "4             n              1             0         Mr   2.202765  "
      ]
     },
     "execution_count": 8,
     "metadata": {},
     "output_type": "execute_result"
    }
   ],
   "source": [
    "df.head(5)"
   ]
  },
  {
   "cell_type": "code",
   "execution_count": 9,
   "metadata": {},
   "outputs": [
    {
     "name": "stdout",
     "output_type": "stream",
     "text": [
      "<class 'pandas.core.frame.DataFrame'>\n",
      "Index: 889 entries, 0 to 890\n",
      "Data columns (total 13 columns):\n",
      " #   Column          Non-Null Count  Dtype  \n",
      "---  ------          --------------  -----  \n",
      " 0   Survived        889 non-null    int64  \n",
      " 1   Pclass          889 non-null    int64  \n",
      " 2   Sex             889 non-null    object \n",
      " 3   Age             889 non-null    float64\n",
      " 4   SibSp           889 non-null    int64  \n",
      " 5   Parch           889 non-null    int64  \n",
      " 6   Embarked        889 non-null    object \n",
      " 7   cabim_multiple  889 non-null    int64  \n",
      " 8   cabin_adv       889 non-null    object \n",
      " 9   numeric_tiket   889 non-null    int64  \n",
      " 10  letters_tiket   889 non-null    object \n",
      " 11  name_title      889 non-null    object \n",
      " 12  norm_fare       889 non-null    float64\n",
      "dtypes: float64(2), int64(6), object(5)\n",
      "memory usage: 97.2+ KB\n"
     ]
    }
   ],
   "source": [
    "df.info()"
   ]
  },
  {
   "cell_type": "markdown",
   "metadata": {},
   "source": [
    "#### labeling encoding"
   ]
  },
  {
   "cell_type": "code",
   "execution_count": 10,
   "metadata": {},
   "outputs": [],
   "source": [
    "from src.labeling import safe_transform"
   ]
  },
  {
   "cell_type": "code",
   "execution_count": 11,
   "metadata": {},
   "outputs": [],
   "source": [
    "from sklearn.preprocessing import LabelEncoder"
   ]
  },
  {
   "cell_type": "code",
   "execution_count": 12,
   "metadata": {},
   "outputs": [],
   "source": [
    "labels = ['Sex', 'Embarked', 'cabin_adv', 'letters_tiket', 'name_title']"
   ]
  },
  {
   "cell_type": "code",
   "execution_count": 13,
   "metadata": {},
   "outputs": [],
   "source": [
    "e_sex = LabelEncoder()\n",
    "e_embarked = LabelEncoder()\n",
    "e_cabin_adv = LabelEncoder()\n",
    "e_letter_ticket = LabelEncoder()\n",
    "e_name_tittle = LabelEncoder()"
   ]
  },
  {
   "cell_type": "code",
   "execution_count": 14,
   "metadata": {},
   "outputs": [],
   "source": [
    "#e_sex.fit_transform(df['Sex'])\n",
    "df['Embarked'] =e_embarked.fit_transform(df['Embarked'])\n",
    "df['cabin_adv']= e_cabin_adv.fit_transform(df['cabin_adv'])\n",
    "df['letters_tiket'] = e_letter_ticket.fit_transform(df['letters_tiket'])\n",
    "df['name_title'] = e_name_tittle.fit_transform(df['name_title'])"
   ]
  },
  {
   "cell_type": "code",
   "execution_count": 16,
   "metadata": {},
   "outputs": [],
   "source": [
    "df['Sex'] =e_sex.fit_transform(df['Sex'])"
   ]
  },
  {
   "cell_type": "code",
   "execution_count": 17,
   "metadata": {},
   "outputs": [
    {
     "data": {
      "text/html": [
       "<div>\n",
       "<style scoped>\n",
       "    .dataframe tbody tr th:only-of-type {\n",
       "        vertical-align: middle;\n",
       "    }\n",
       "\n",
       "    .dataframe tbody tr th {\n",
       "        vertical-align: top;\n",
       "    }\n",
       "\n",
       "    .dataframe thead th {\n",
       "        text-align: right;\n",
       "    }\n",
       "</style>\n",
       "<table border=\"1\" class=\"dataframe\">\n",
       "  <thead>\n",
       "    <tr style=\"text-align: right;\">\n",
       "      <th></th>\n",
       "      <th>Survived</th>\n",
       "      <th>Pclass</th>\n",
       "      <th>Sex</th>\n",
       "      <th>Age</th>\n",
       "      <th>SibSp</th>\n",
       "      <th>Parch</th>\n",
       "      <th>Embarked</th>\n",
       "      <th>cabim_multiple</th>\n",
       "      <th>cabin_adv</th>\n",
       "      <th>numeric_tiket</th>\n",
       "      <th>letters_tiket</th>\n",
       "      <th>name_title</th>\n",
       "      <th>norm_fare</th>\n",
       "    </tr>\n",
       "    <tr>\n",
       "      <th>index</th>\n",
       "      <th></th>\n",
       "      <th></th>\n",
       "      <th></th>\n",
       "      <th></th>\n",
       "      <th></th>\n",
       "      <th></th>\n",
       "      <th></th>\n",
       "      <th></th>\n",
       "      <th></th>\n",
       "      <th></th>\n",
       "      <th></th>\n",
       "      <th></th>\n",
       "      <th></th>\n",
       "    </tr>\n",
       "  </thead>\n",
       "  <tbody>\n",
       "    <tr>\n",
       "      <th>85</th>\n",
       "      <td>1</td>\n",
       "      <td>3</td>\n",
       "      <td>0</td>\n",
       "      <td>33.000000</td>\n",
       "      <td>3</td>\n",
       "      <td>0</td>\n",
       "      <td>2</td>\n",
       "      <td>0</td>\n",
       "      <td>8</td>\n",
       "      <td>1</td>\n",
       "      <td>0</td>\n",
       "      <td>12</td>\n",
       "      <td>2.824351</td>\n",
       "    </tr>\n",
       "    <tr>\n",
       "      <th>828</th>\n",
       "      <td>1</td>\n",
       "      <td>3</td>\n",
       "      <td>1</td>\n",
       "      <td>29.699118</td>\n",
       "      <td>0</td>\n",
       "      <td>0</td>\n",
       "      <td>1</td>\n",
       "      <td>0</td>\n",
       "      <td>8</td>\n",
       "      <td>1</td>\n",
       "      <td>0</td>\n",
       "      <td>11</td>\n",
       "      <td>2.169054</td>\n",
       "    </tr>\n",
       "    <tr>\n",
       "      <th>280</th>\n",
       "      <td>0</td>\n",
       "      <td>3</td>\n",
       "      <td>1</td>\n",
       "      <td>65.000000</td>\n",
       "      <td>0</td>\n",
       "      <td>0</td>\n",
       "      <td>1</td>\n",
       "      <td>0</td>\n",
       "      <td>8</td>\n",
       "      <td>1</td>\n",
       "      <td>0</td>\n",
       "      <td>11</td>\n",
       "      <td>2.169054</td>\n",
       "    </tr>\n",
       "    <tr>\n",
       "      <th>490</th>\n",
       "      <td>0</td>\n",
       "      <td>3</td>\n",
       "      <td>1</td>\n",
       "      <td>29.699118</td>\n",
       "      <td>1</td>\n",
       "      <td>0</td>\n",
       "      <td>2</td>\n",
       "      <td>0</td>\n",
       "      <td>8</td>\n",
       "      <td>1</td>\n",
       "      <td>0</td>\n",
       "      <td>11</td>\n",
       "      <td>3.042935</td>\n",
       "    </tr>\n",
       "    <tr>\n",
       "      <th>887</th>\n",
       "      <td>1</td>\n",
       "      <td>1</td>\n",
       "      <td>0</td>\n",
       "      <td>19.000000</td>\n",
       "      <td>0</td>\n",
       "      <td>0</td>\n",
       "      <td>2</td>\n",
       "      <td>1</td>\n",
       "      <td>1</td>\n",
       "      <td>1</td>\n",
       "      <td>0</td>\n",
       "      <td>8</td>\n",
       "      <td>3.433987</td>\n",
       "    </tr>\n",
       "    <tr>\n",
       "      <th>651</th>\n",
       "      <td>1</td>\n",
       "      <td>2</td>\n",
       "      <td>0</td>\n",
       "      <td>18.000000</td>\n",
       "      <td>0</td>\n",
       "      <td>1</td>\n",
       "      <td>2</td>\n",
       "      <td>0</td>\n",
       "      <td>8</td>\n",
       "      <td>1</td>\n",
       "      <td>0</td>\n",
       "      <td>8</td>\n",
       "      <td>3.178054</td>\n",
       "    </tr>\n",
       "    <tr>\n",
       "      <th>698</th>\n",
       "      <td>0</td>\n",
       "      <td>1</td>\n",
       "      <td>1</td>\n",
       "      <td>49.000000</td>\n",
       "      <td>1</td>\n",
       "      <td>1</td>\n",
       "      <td>0</td>\n",
       "      <td>1</td>\n",
       "      <td>2</td>\n",
       "      <td>1</td>\n",
       "      <td>0</td>\n",
       "      <td>11</td>\n",
       "      <td>4.717456</td>\n",
       "    </tr>\n",
       "    <tr>\n",
       "      <th>174</th>\n",
       "      <td>0</td>\n",
       "      <td>1</td>\n",
       "      <td>1</td>\n",
       "      <td>56.000000</td>\n",
       "      <td>0</td>\n",
       "      <td>0</td>\n",
       "      <td>0</td>\n",
       "      <td>1</td>\n",
       "      <td>0</td>\n",
       "      <td>1</td>\n",
       "      <td>0</td>\n",
       "      <td>11</td>\n",
       "      <td>3.456184</td>\n",
       "    </tr>\n",
       "    <tr>\n",
       "      <th>520</th>\n",
       "      <td>1</td>\n",
       "      <td>1</td>\n",
       "      <td>0</td>\n",
       "      <td>30.000000</td>\n",
       "      <td>0</td>\n",
       "      <td>0</td>\n",
       "      <td>2</td>\n",
       "      <td>1</td>\n",
       "      <td>1</td>\n",
       "      <td>1</td>\n",
       "      <td>0</td>\n",
       "      <td>8</td>\n",
       "      <td>4.548600</td>\n",
       "    </tr>\n",
       "    <tr>\n",
       "      <th>292</th>\n",
       "      <td>0</td>\n",
       "      <td>2</td>\n",
       "      <td>1</td>\n",
       "      <td>36.000000</td>\n",
       "      <td>0</td>\n",
       "      <td>0</td>\n",
       "      <td>0</td>\n",
       "      <td>1</td>\n",
       "      <td>3</td>\n",
       "      <td>0</td>\n",
       "      <td>18</td>\n",
       "      <td>11</td>\n",
       "      <td>2.630089</td>\n",
       "    </tr>\n",
       "  </tbody>\n",
       "</table>\n",
       "</div>"
      ],
      "text/plain": [
       "       Survived  Pclass  Sex        Age  SibSp  Parch  Embarked  \\\n",
       "index                                                             \n",
       "85            1       3    0  33.000000      3      0         2   \n",
       "828           1       3    1  29.699118      0      0         1   \n",
       "280           0       3    1  65.000000      0      0         1   \n",
       "490           0       3    1  29.699118      1      0         2   \n",
       "887           1       1    0  19.000000      0      0         2   \n",
       "651           1       2    0  18.000000      0      1         2   \n",
       "698           0       1    1  49.000000      1      1         0   \n",
       "174           0       1    1  56.000000      0      0         0   \n",
       "520           1       1    0  30.000000      0      0         2   \n",
       "292           0       2    1  36.000000      0      0         0   \n",
       "\n",
       "       cabim_multiple  cabin_adv  numeric_tiket  letters_tiket  name_title  \\\n",
       "index                                                                        \n",
       "85                  0          8              1              0          12   \n",
       "828                 0          8              1              0          11   \n",
       "280                 0          8              1              0          11   \n",
       "490                 0          8              1              0          11   \n",
       "887                 1          1              1              0           8   \n",
       "651                 0          8              1              0           8   \n",
       "698                 1          2              1              0          11   \n",
       "174                 1          0              1              0          11   \n",
       "520                 1          1              1              0           8   \n",
       "292                 1          3              0             18          11   \n",
       "\n",
       "       norm_fare  \n",
       "index             \n",
       "85      2.824351  \n",
       "828     2.169054  \n",
       "280     2.169054  \n",
       "490     3.042935  \n",
       "887     3.433987  \n",
       "651     3.178054  \n",
       "698     4.717456  \n",
       "174     3.456184  \n",
       "520     4.548600  \n",
       "292     2.630089  "
      ]
     },
     "execution_count": 17,
     "metadata": {},
     "output_type": "execute_result"
    }
   ],
   "source": [
    "df.sample(10)"
   ]
  },
  {
   "cell_type": "code",
   "execution_count": 18,
   "metadata": {},
   "outputs": [],
   "source": [
    "import joblib as jb"
   ]
  },
  {
   "cell_type": "code",
   "execution_count": 19,
   "metadata": {},
   "outputs": [
    {
     "data": {
      "text/plain": [
       "['D:\\\\0_Respaldo\\\\0_Proyectos_2024\\\\ML_proyects\\\\titanic\\\\titanic\\\\titanic\\\\ml\\\\e_name_tittle.pkl']"
      ]
     },
     "execution_count": 19,
     "metadata": {},
     "output_type": "execute_result"
    }
   ],
   "source": [
    "#export encoders\n",
    "jb.dump(e_sex, r'D:\\0_Respaldo\\0_Proyectos_2024\\ML_proyects\\titanic\\titanic\\titanic\\ml\\e_sex.pkl' )\n",
    "jb.dump(e_cabin_adv, r'D:\\0_Respaldo\\0_Proyectos_2024\\ML_proyects\\titanic\\titanic\\titanic\\ml\\e_cabin_adv.pkl' )\n",
    "jb.dump(e_embarked, r'D:\\0_Respaldo\\0_Proyectos_2024\\ML_proyects\\titanic\\titanic\\titanic\\ml\\e_embarked.pkl' )\n",
    "jb.dump(e_letter_ticket, r'D:\\0_Respaldo\\0_Proyectos_2024\\ML_proyects\\titanic\\titanic\\titanic\\ml\\e_letter_ticket.pkl' )\n",
    "jb.dump(e_name_tittle, r'D:\\0_Respaldo\\0_Proyectos_2024\\ML_proyects\\titanic\\titanic\\titanic\\ml\\e_name_tittle.pkl' )"
   ]
  },
  {
   "cell_type": "code",
   "execution_count": 20,
   "metadata": {},
   "outputs": [
    {
     "name": "stdout",
     "output_type": "stream",
     "text": [
      "<class 'pandas.core.frame.DataFrame'>\n",
      "Index: 889 entries, 0 to 890\n",
      "Data columns (total 13 columns):\n",
      " #   Column          Non-Null Count  Dtype  \n",
      "---  ------          --------------  -----  \n",
      " 0   Survived        889 non-null    int64  \n",
      " 1   Pclass          889 non-null    int64  \n",
      " 2   Sex             889 non-null    int64  \n",
      " 3   Age             889 non-null    float64\n",
      " 4   SibSp           889 non-null    int64  \n",
      " 5   Parch           889 non-null    int64  \n",
      " 6   Embarked        889 non-null    int64  \n",
      " 7   cabim_multiple  889 non-null    int64  \n",
      " 8   cabin_adv       889 non-null    int64  \n",
      " 9   numeric_tiket   889 non-null    int64  \n",
      " 10  letters_tiket   889 non-null    int64  \n",
      " 11  name_title      889 non-null    int64  \n",
      " 12  norm_fare       889 non-null    float64\n",
      "dtypes: float64(2), int64(11)\n",
      "memory usage: 97.2 KB\n"
     ]
    }
   ],
   "source": [
    "df.info()"
   ]
  },
  {
   "cell_type": "markdown",
   "metadata": {},
   "source": [
    "#### Correlations"
   ]
  },
  {
   "cell_type": "code",
   "execution_count": 21,
   "metadata": {},
   "outputs": [],
   "source": [
    "corr_m = df.corr()"
   ]
  },
  {
   "cell_type": "code",
   "execution_count": 22,
   "metadata": {},
   "outputs": [
    {
     "data": {
      "text/plain": [
       "Survived          1.000000\n",
       "Pclass            0.335549\n",
       "Sex               0.541585\n",
       "Age               0.074673\n",
       "SibSp             0.034040\n",
       "Parch             0.083151\n",
       "Embarked          0.169718\n",
       "cabim_multiple    0.274282\n",
       "cabin_adv         0.296833\n",
       "numeric_tiket     0.000190\n",
       "letters_tiket     0.002138\n",
       "name_title        0.193873\n",
       "norm_fare         0.327042\n",
       "Name: Survived, dtype: float64"
      ]
     },
     "execution_count": 22,
     "metadata": {},
     "output_type": "execute_result"
    }
   ],
   "source": [
    "\n",
    "cort = abs(corr_m['Survived'])\n",
    "cort"
   ]
  },
  {
   "cell_type": "markdown",
   "metadata": {},
   "source": [
    "Featuring"
   ]
  },
  {
   "cell_type": "code",
   "execution_count": 29,
   "metadata": {},
   "outputs": [],
   "source": [
    "df1 = df.copy()"
   ]
  },
  {
   "cell_type": "code",
   "execution_count": 31,
   "metadata": {},
   "outputs": [],
   "source": [
    "df1['delta_sex'] = df1['Sex']*10 + df1['norm_fare']"
   ]
  },
  {
   "cell_type": "code",
   "execution_count": 32,
   "metadata": {},
   "outputs": [],
   "source": [
    "df1['delta_class'] = df1['Sex']*10 + df1['Pclass']"
   ]
  },
  {
   "cell_type": "code",
   "execution_count": 33,
   "metadata": {},
   "outputs": [
    {
     "data": {
      "text/plain": [
       "Survived          1.000000\n",
       "Pclass            0.335549\n",
       "Sex               0.541585\n",
       "Age               0.074673\n",
       "SibSp             0.034040\n",
       "Parch             0.083151\n",
       "Embarked          0.169718\n",
       "cabim_multiple    0.274282\n",
       "cabin_adv         0.296833\n",
       "numeric_tiket     0.000190\n",
       "letters_tiket     0.002138\n",
       "name_title        0.193873\n",
       "norm_fare         0.327042\n",
       "delta_sex         0.491365\n",
       "delta_class       0.578863\n",
       "Name: Survived, dtype: float64"
      ]
     },
     "execution_count": 33,
     "metadata": {},
     "output_type": "execute_result"
    }
   ],
   "source": [
    "corr_m = df1.corr()\n",
    "cort = abs(corr_m['Survived'])\n",
    "cort"
   ]
  },
  {
   "cell_type": "code",
   "execution_count": 35,
   "metadata": {},
   "outputs": [],
   "source": [
    "df2 = df1.copy()"
   ]
  },
  {
   "cell_type": "code",
   "execution_count": 36,
   "metadata": {},
   "outputs": [],
   "source": [
    "del df2['Age']\n",
    "del df2['SibSp']\n",
    "del df2['Parch']\n",
    "del df2['numeric_tiket']\n",
    "del df2['letters_tiket']\n"
   ]
  },
  {
   "cell_type": "markdown",
   "metadata": {},
   "source": [
    "#### Export data"
   ]
  },
  {
   "cell_type": "code",
   "execution_count": 25,
   "metadata": {},
   "outputs": [],
   "source": [
    "df.to_parquet(r'D:\\0_Respaldo\\0_Proyectos_2024\\ML_proyects\\titanic\\titanic\\titanic\\data\\clean\\ready.parquet')"
   ]
  },
  {
   "cell_type": "code",
   "execution_count": 34,
   "metadata": {},
   "outputs": [],
   "source": [
    "df1.to_parquet(r'D:\\0_Respaldo\\0_Proyectos_2024\\ML_proyects\\titanic\\titanic\\titanic\\data\\clean\\ready_2.parquet')"
   ]
  },
  {
   "cell_type": "code",
   "execution_count": 37,
   "metadata": {},
   "outputs": [],
   "source": [
    "df2.to_parquet(r'D:\\0_Respaldo\\0_Proyectos_2024\\ML_proyects\\titanic\\titanic\\titanic\\data\\clean\\ready_3.parquet')"
   ]
  }
 ],
 "metadata": {
  "kernelspec": {
   "display_name": ".venv",
   "language": "python",
   "name": "python3"
  },
  "language_info": {
   "codemirror_mode": {
    "name": "ipython",
    "version": 3
   },
   "file_extension": ".py",
   "mimetype": "text/x-python",
   "name": "python",
   "nbconvert_exporter": "python",
   "pygments_lexer": "ipython3",
   "version": "3.11.5"
  }
 },
 "nbformat": 4,
 "nbformat_minor": 2
}
